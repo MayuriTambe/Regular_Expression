{
 "cells": [
  {
   "cell_type": "markdown",
   "metadata": {},
   "source": [
    "# Valid First Name"
   ]
  },
  {
   "cell_type": "code",
   "execution_count": 2,
   "metadata": {},
   "outputs": [
    {
     "name": "stdout",
     "output_type": "stream",
     "text": [
      "Please,Enter the First Name:Mayuri\n"
     ]
    },
    {
     "data": {
      "text/plain": [
       "'valid'"
      ]
     },
     "execution_count": 2,
     "metadata": {},
     "output_type": "execute_result"
    }
   ],
   "source": [
    "#Python has a built-in package called re, which can be used to work with Regular Expression\n",
    "import re\n",
    "def user_first_name(first_name):\n",
    "    #findall() module is used to search for “all” occurrences that match a given pattern\n",
    "    if re.findall(r'^[A-Z][a-z]{2,}', first_name):\n",
    "         return 'valid'\n",
    "    else:\n",
    "        return 'Invalid name!Please enter valid name'\n",
    "string = input(\"Please,Enter the First Name:\")\n",
    "user_first_name(string)"
   ]
  },
  {
   "cell_type": "code",
   "execution_count": 3,
   "metadata": {},
   "outputs": [
    {
     "name": "stdout",
     "output_type": "stream",
     "text": [
      "Please,Enter the First Name:M64\n"
     ]
    },
    {
     "data": {
      "text/plain": [
       "'Invalid name!Please enter valid name'"
      ]
     },
     "execution_count": 3,
     "metadata": {},
     "output_type": "execute_result"
    }
   ],
   "source": [
    "string = input((\"Please,Enter the First Name:\"))\n",
    "user_first_name(string)"
   ]
  },
  {
   "cell_type": "markdown",
   "metadata": {},
   "source": [
    "# Valid Last Name"
   ]
  },
  {
   "cell_type": "code",
   "execution_count": 4,
   "metadata": {},
   "outputs": [
    {
     "name": "stdout",
     "output_type": "stream",
     "text": [
      "Please,Enter the Last Name:Tambe\n"
     ]
    },
    {
     "data": {
      "text/plain": [
       "'valid'"
      ]
     },
     "execution_count": 4,
     "metadata": {},
     "output_type": "execute_result"
    }
   ],
   "source": [
    "def user_last_name(last_name):\n",
    "    #findall() module is used to search for “all” occurrences that match a given pattern\n",
    "    if re.findall(r'^[A-Z][a-z]{2,}', last_name):\n",
    "         return 'valid'\n",
    "    else:\n",
    "        return 'Invalid name!Please enter valid name'\n",
    "string = input(\"Please,Enter the Last Name:\")\n",
    "user_last_name(string)"
   ]
  },
  {
   "cell_type": "code",
   "execution_count": 5,
   "metadata": {},
   "outputs": [
    {
     "name": "stdout",
     "output_type": "stream",
     "text": [
      "Please,Enter the Last Name:nill\n"
     ]
    },
    {
     "data": {
      "text/plain": [
       "'Invalid name!Please enter valid name'"
      ]
     },
     "execution_count": 5,
     "metadata": {},
     "output_type": "execute_result"
    }
   ],
   "source": [
    "string = input(\"Please,Enter the Last Name:\")\n",
    "user_first_name(string)"
   ]
  },
  {
   "cell_type": "markdown",
   "metadata": {},
   "source": [
    "# Valid EmailId"
   ]
  },
  {
   "cell_type": "code",
   "execution_count": 6,
   "metadata": {},
   "outputs": [
    {
     "name": "stdout",
     "output_type": "stream",
     "text": [
      "Please,Enter EmailId:abc.xyz@bl.co\n"
     ]
    },
    {
     "data": {
      "text/plain": [
       "'valid'"
      ]
     },
     "execution_count": 6,
     "metadata": {},
     "output_type": "execute_result"
    }
   ],
   "source": [
    "#E.g. abc.xyz@bl.co.in - Email has 3 mandatory parts (abc, bl& co) and 2 optional (xyz & in) with precise @ and . positions\n",
    "def user_emailid(emailid):\n",
    "    regex='^[a-z0-9]+[\\._]?[a-z0-9]+[@]\\w+[.]\\w{2,3}$'\n",
    "    if re.search(regex,emailid): # match function compares string with pattern\n",
    "        return 'valid'\n",
    "    else:\n",
    "        return 'Invalid! Please enter valid Email-ID'\n",
    "string = input(\"Please,Enter EmailId:\")\n",
    "user_emailid(string)\n"
   ]
  },
  {
   "cell_type": "code",
   "execution_count": 7,
   "metadata": {},
   "outputs": [
    {
     "name": "stdout",
     "output_type": "stream",
     "text": [
      "Please,Enter EmailId:345gfsgf\n"
     ]
    },
    {
     "data": {
      "text/plain": [
       "'Invalid! Please enter valid Email-ID'"
      ]
     },
     "execution_count": 7,
     "metadata": {},
     "output_type": "execute_result"
    }
   ],
   "source": [
    "string = input(\"Please,Enter EmailId:\")\n",
    "user_emailid(string)"
   ]
  },
  {
   "cell_type": "markdown",
   "metadata": {},
   "source": [
    "# Valid Contact Number"
   ]
  },
  {
   "cell_type": "code",
   "execution_count": 8,
   "metadata": {},
   "outputs": [
    {
     "name": "stdout",
     "output_type": "stream",
     "text": [
      "Please,Enter Contact Number:+14842658023\n"
     ]
    },
    {
     "data": {
      "text/plain": [
       "'valid'"
      ]
     },
     "execution_count": 8,
     "metadata": {},
     "output_type": "execute_result"
    }
   ],
   "source": [
    "#Country code follow by space and 10 digit number\n",
    "def user_contact_number(number):\n",
    "    #regex='^[a-z0-9]+[\\._]?[a-z0-9]+[@]\\w+[.]\\w{2,3}$'\n",
    "    if(re.search(r'(^[+0-9]{1,3})*([0-9]{10,11}$)',number)): # match function compares string with pattern\n",
    "        return 'valid'\n",
    "    else:\n",
    "        return 'Invalid !Please enter valid Contact Number'\n",
    "Number = input(\"Please,Enter Contact Number:\")\n",
    "user_contact_number(Number)\n"
   ]
  },
  {
   "cell_type": "code",
   "execution_count": 9,
   "metadata": {},
   "outputs": [
    {
     "name": "stdout",
     "output_type": "stream",
     "text": [
      "Please,Enter Contact Number:+67587\n"
     ]
    },
    {
     "data": {
      "text/plain": [
       "'Invalid !Please enter valid Contact Number'"
      ]
     },
     "execution_count": 9,
     "metadata": {},
     "output_type": "execute_result"
    }
   ],
   "source": [
    "Number = input(\"Please,Enter Contact Number:\")\n",
    "user_contact_number(Number)\n"
   ]
  },
  {
   "cell_type": "markdown",
   "metadata": {},
   "source": [
    "# Valid Password"
   ]
  },
  {
   "cell_type": "code",
   "execution_count": 10,
   "metadata": {},
   "outputs": [
    {
     "name": "stdout",
     "output_type": "stream",
     "text": [
      "Please,Enter password:mayuritambehfh\n"
     ]
    },
    {
     "data": {
      "text/plain": [
       "'valid'"
      ]
     },
     "execution_count": 10,
     "metadata": {},
     "output_type": "execute_result"
    }
   ],
   "source": [
    "# Rule1 – minimum 8 Characters\n",
    "def user_password(password):\n",
    "    regex='(?=^.{8,}$)((?=.*\\d)|[^0-9]*|[^A-Z]*|[^a-z]*|[a-zA-Z0-9]*)'\n",
    "    if re.match(regex, password): # match function compares string with pattern\n",
    "        return 'valid'\n",
    "    else:\n",
    "        return 'Invalid!Please enter valid password'\n",
    "string = input(\"Please,Enter password:\")\n",
    "user_password(string)\n"
   ]
  },
  {
   "cell_type": "code",
   "execution_count": 13,
   "metadata": {},
   "outputs": [
    {
     "name": "stdout",
     "output_type": "stream",
     "text": [
      "Please,Enter password:46547\n"
     ]
    },
    {
     "data": {
      "text/plain": [
       "'Invalid!Please enter valid password'"
      ]
     },
     "execution_count": 13,
     "metadata": {},
     "output_type": "execute_result"
    }
   ],
   "source": [
    "string = input(\"Please,Enter password:\")\n",
    "user_password(string)\n"
   ]
  },
  {
   "cell_type": "code",
   "execution_count": 15,
   "metadata": {},
   "outputs": [
    {
     "name": "stdout",
     "output_type": "stream",
     "text": [
      "Please,Enter password:Mayurtvd76\n"
     ]
    },
    {
     "data": {
      "text/plain": [
       "'valid'"
      ]
     },
     "execution_count": 15,
     "metadata": {},
     "output_type": "execute_result"
    }
   ],
   "source": [
    "# Rule2 – Should have at least 1 Upper Case\n",
    "def user_password(password):\n",
    "    regex='^(?=.*[a-z])(?=.*[A-Z])(?=.*\\d)[a-zA-Z\\d]{8,}$'\n",
    "#if(re.match(pattern,Password)):\n",
    "    if re.match(regex, password): # match function compares string with pattern\n",
    "        return 'valid'\n",
    "    else:\n",
    "        return 'Invalid!Please enter valid password'\n",
    "string = input(\"Please,Enter password:\")\n",
    "user_password(string)"
   ]
  },
  {
   "cell_type": "code",
   "execution_count": 16,
   "metadata": {},
   "outputs": [
    {
     "name": "stdout",
     "output_type": "stream",
     "text": [
      "Please,Enter password:Mayu3tambe\n"
     ]
    },
    {
     "data": {
      "text/plain": [
       "'valid'"
      ]
     },
     "execution_count": 16,
     "metadata": {},
     "output_type": "execute_result"
    }
   ],
   "source": [
    "#Rule3 – Should have at least 1 numeric number\n",
    "def user_password(password):\n",
    "    regex='^(?=.*[A-Za-z])(?=.*\\d)[A-Za-z\\d]{8,}$'\n",
    "#if(re.match(pattern,Password)):\n",
    "    if re.match(regex, password): # match function compares string with pattern\n",
    "        return 'valid'\n",
    "    else:\n",
    "        return 'Invalid!Please enter valid password'\n",
    "string = input(\"Please,Enter password:\")\n",
    "user_password(string)"
   ]
  },
  {
   "cell_type": "code",
   "execution_count": 17,
   "metadata": {},
   "outputs": [
    {
     "name": "stdout",
     "output_type": "stream",
     "text": [
      "Please,Enter password:@tjrtfhs125%\n"
     ]
    },
    {
     "data": {
      "text/plain": [
       "'valid'"
      ]
     },
     "execution_count": 17,
     "metadata": {},
     "output_type": "execute_result"
    }
   ],
   "source": [
    "#Rule4 – Has exactly 1 Special Character\n",
    "def user_password(password):\n",
    "    regex='^(?=.*[A-Za-z])(?=.*\\d)(?=.*[@$!%*#?&])[A-Za-z\\d@$!%*#?&]{8,}$'\n",
    "    if re.match(regex, password): # match function compares string with pattern\n",
    "        return 'valid'\n",
    "    else:\n",
    "        return 'Invalid!Please enter valid password'\n",
    "string = input(\"Please,Enter password:\")\n",
    "user_password(string)\n",
    "\n"
   ]
  },
  {
   "cell_type": "code",
   "execution_count": 18,
   "metadata": {},
   "outputs": [
    {
     "name": "stdout",
     "output_type": "stream",
     "text": [
      "Please,Enter password:mA@u242mba\n"
     ]
    },
    {
     "data": {
      "text/plain": [
       "'valid'"
      ]
     },
     "execution_count": 18,
     "metadata": {},
     "output_type": "execute_result"
    }
   ],
   "source": [
    "#All condition should satisfy\n",
    "def user_password(password):\n",
    "    regex='^(?=.*[a-z])(?=.*[A-Z])(?=.*\\d)(?=.*[@$!%*?&])[A-Za-z\\d@$!%*?&]{8,10}$'\n",
    "    if re.match(regex, password): # match function compares string with pattern\n",
    "        return 'valid'\n",
    "    else:\n",
    "        return 'Invalid!Please enter valid password'\n",
    "string = input(\"Please,Enter password:\")\n",
    "user_password(string)\n",
    "\n"
   ]
  }
 ],
 "metadata": {
  "kernelspec": {
   "display_name": "Python 3",
   "language": "python",
   "name": "python3"
  },
  "language_info": {
   "codemirror_mode": {
    "name": "ipython",
    "version": 3
   },
   "file_extension": ".py",
   "mimetype": "text/x-python",
   "name": "python",
   "nbconvert_exporter": "python",
   "pygments_lexer": "ipython3",
   "version": "3.6.9"
  }
 },
 "nbformat": 4,
 "nbformat_minor": 2
}
